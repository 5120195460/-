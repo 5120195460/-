{
 "cells": [
  {
   "cell_type": "code",
   "execution_count": 9,
   "metadata": {},
   "outputs": [
    {
     "name": "stdout",
     "output_type": "stream",
     "text": [
      "y=b0+x*b1\n",
      "b0: 0.1486322188449848  b1: 0.0990200386711197\n",
      "x_test: 6  y_test: 0.742752450871703\n"
     ]
    },
    {
     "data": {
      "image/png": "[encoded data removed]",
      "text/plain": [
       "<Figure size 432x288 with 1 Axes>"
      ]
     },
     "metadata": {
      "needs_background": "light"
     },
     "output_type": "display_data"
    }
   ],
   "source": [
    "import numpy as np\n",
    "import matplotlib.pyplot as plt\n",
    "\n",
    "def fitSLR(x,y):\n",
    "    n=len(x)\n",
    "    denominator=0.0\n",
    "    numerator=0.0\n",
    "    for i in range(n):\n",
    "        numerator+=(x[i]-np.mean(x))*(y[i]-np.mean(y))\n",
    "        denominator+=(x[i]-np.mean(x))**2\n",
    "    b1=numerator/denominator\n",
    "    b0=np.mean(y)/np.mean(x)\n",
    "    return b0,b1\n",
    "\n",
    "def predict(x,b0,b1):\n",
    "    return b0+x*b1\n",
    "\n",
    "x = [27,47,31,44,21,23,50,23,21,32,48,54,29,34,51,56,40,27]\n",
    "y = [4.3,6.3,5.2,7.1,4.0,3.9,6.7,4.4,3.9,4.6,6.3,7.2,5.0,4.7,6.8,7.2,6.1,4.1]    \n",
    "#教材p23页数据（员工年龄与薪资情况）\n",
    "\n",
    "b0,b1=fitSLR(x, y)\n",
    "print(\"y=b0+x*b1\")\n",
    "print(\"b0:\",b0,\" b1:\",b1)\n",
    "\n",
    "x_test=6\n",
    "y_test=predict(6, b0, b1)\n",
    "print( \"x_test:\",x_test,\" y_test:\", y_test)\n",
    "\n",
    "xx=np.linspace(0, 60)\n",
    "yy=b0*xx + b1\n",
    "plt.plot(xx,yy,'k-')\n",
    "plt.scatter(x,y)\n",
    "plt.show()\n"
   ]
  },
  {
   "cell_type": "code",
   "execution_count": null,
   "metadata": {},
   "outputs": [],
   "source": []
  }
 ],
 "metadata": {
  "kernelspec": {
   "display_name": "Python 3",
   "language": "python",
   "name": "python3"
  },
  "language_info": {
   "codemirror_mode": {
    "name": "ipython",
    "version": 3
   },
   "file_extension": ".py",
   "mimetype": "text/x-python",
   "name": "python",
   "nbconvert_exporter": "python",
   "pygments_lexer": "ipython3",
   "version": "3.8.3"
  }
 },
 "nbformat": 4,
 "nbformat_minor": 4
}
